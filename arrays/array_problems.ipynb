{
 "cells": [
  {
   "cell_type": "code",
   "execution_count": 2,
   "metadata": {},
   "outputs": [],
   "source": [
    "# working my way through problems from this list: \n",
    "# https://javarevisited.blogspot.com/2015/06/top-20-array-interview-questions-and-answers.html\n",
    "import random"
   ]
  },
  {
   "cell_type": "code",
   "execution_count": 6,
   "metadata": {},
   "outputs": [
    {
     "name": "stdout",
     "output_type": "stream",
     "text": [
      "Correct, 6 is the missing element\n",
      "Correct, 6 is the missing element\n",
      "Correct, 2 is the missing element\n",
      "Correct, 40 is the missing element\n"
     ]
    }
   ],
   "source": [
    "def missing_integer_in_array_from_1_to_n(n):\n",
    "    \"\"\"You have given an integer array which contains numbers from 1 to 100 \n",
    "    but one number is missing, you need to write a program to find that missing number\"\"\"\n",
    "    # generate input array with missing integer\n",
    "    X = list(range(1,n+1))\n",
    "    m = random.randint(1,n)\n",
    "    X.remove(m)\n",
    "    \n",
    "    def find_missing_integer(X):\n",
    "        n = len(X)+1\n",
    "        sarray = sum(X)\n",
    "        sactual = sum(list(range(1,n+1)))\n",
    "        missing = sactual - sarray\n",
    "        return missing\n",
    "    \n",
    "    def test_find_missing_integer(X,m):\n",
    "        missing = find_missing_integer(X)\n",
    "        if missing != m:\n",
    "            print(\"Bad soln!\")\n",
    "            return False\n",
    "        else:\n",
    "            print(\"Correct, {} is the missing element\".format(m))\n",
    "    \n",
    "    test_find_missing_integer(X,m)\n",
    "    \n",
    "missing_integer_in_array_from_1_to_n(10)\n",
    "missing_integer_in_array_from_1_to_n(20)\n",
    "missing_integer_in_array_from_1_to_n(2)\n",
    "missing_integer_in_array_from_1_to_n(50)"
   ]
  },
  {
   "cell_type": "code",
   "execution_count": 8,
   "metadata": {},
   "outputs": [
    {
     "name": "stdout",
     "output_type": "stream",
     "text": [
      "Correct, 4 is the duplicate element\n",
      "Correct, 7 is the duplicate element\n",
      "Correct, 2 is the duplicate element\n",
      "Correct, 30 is the duplicate element\n"
     ]
    }
   ],
   "source": [
    "def find_duplicate_number_in_integer_array(n):\n",
    "    \"\"\"An array contains n numbers ranging from 0 to n-2. \n",
    "    There is exactly one number is repeated in the array. \n",
    "    You need to write a program to find that duplicate number.\"\"\"\n",
    "    d = random.randint(1,n)\n",
    "    X = list(range(1,n+1)) + [d]\n",
    "        \n",
    "    def find_duplicate_integer(X):\n",
    "        n = len(X)-1\n",
    "        sarray = sum(X)\n",
    "        sactual = sum(list(range(1,n+1)))\n",
    "        duplicate = sarray - sactual\n",
    "        return duplicate\n",
    "    \n",
    "    dup = find_duplicate_integer(X)\n",
    "    if dup != d:\n",
    "        print(\"Bad soln!\")\n",
    "        return False\n",
    "    else:\n",
    "        print(\"Correct, {} is the duplicate element\".format(d))\n",
    "                       \n",
    "find_duplicate_number_in_integer_array(5)\n",
    "find_duplicate_number_in_integer_array(15)\n",
    "find_duplicate_number_in_integer_array(2)\n",
    "find_duplicate_number_in_integer_array(40)"
   ]
  },
  {
   "cell_type": "code",
   "execution_count": 12,
   "metadata": {},
   "outputs": [
    {
     "name": "stdout",
     "output_type": "stream",
     "text": [
      "Array does not contain 3\n",
      "No, [-1, 0, 1, 4, 6, 10, 5] does NOT contain 3\n",
      "\n",
      "Array does not contain 3\n",
      "No, [1, 2, 4, 6, 8] does NOT contain 3\n",
      "\n",
      "Array contains 3 at index 2\n",
      "Yes, [1, 2, 3, 4, 6, 8] contains 3\n",
      "\n"
     ]
    }
   ],
   "source": [
    "def check_if_array_contains_number(num = 0,X = [-1,0,1,4,6,10,5]):\n",
    "    \n",
    "    def contains_using_python(num,X):\n",
    "        if num in X:\n",
    "            ind = X.index(num)\n",
    "            print(\"Array contains {} at index {}\".format(num,ind))\n",
    "        else:\n",
    "            print(\"Array does not contain {}\".format(num))\n",
    "            \n",
    "    def contains(num,X):\n",
    "        for x in X:\n",
    "            if num == x:\n",
    "                return True\n",
    "        return False\n",
    "    \n",
    "    contains_using_python(num,X)\n",
    "    status = contains(num,X)\n",
    "    if status:\n",
    "        print(\"Yes, {} contains {}\".format(X,num))\n",
    "    else:\n",
    "        print(\"No, {} does NOT contain {}\".format(X,num))\n",
    "    print()\n",
    "        \n",
    "check_if_array_contains_number(3)\n",
    "check_if_array_contains_number(3,[1,2,4,6,8])\n",
    "check_if_array_contains_number(3,[1,2,3,4,6,8])"
   ]
  },
  {
   "cell_type": "code",
   "execution_count": 14,
   "metadata": {},
   "outputs": [
    {
     "name": "stdout",
     "output_type": "stream",
     "text": [
      "Good soln, array has min value 1 and max value 50\n",
      "Good soln, array has min value -10 and max value 6\n"
     ]
    }
   ],
   "source": [
    "def find_largest_and_smallest_number_in_unsorted_array(X = None):\n",
    "    if not X:\n",
    "        X = []\n",
    "        for i in range(30):\n",
    "            X.append(random.randint(0,50))\n",
    "    \n",
    "    def find_min_max_with_python(X):\n",
    "        return min(X),max(X)\n",
    "    \n",
    "    def find_min_max(X):\n",
    "        m = X[0]\n",
    "        M = X[0]\n",
    "        for x in X:\n",
    "            if x > M:\n",
    "                M = x\n",
    "            elif x < m:\n",
    "                m = x\n",
    "        return m,M\n",
    "    \n",
    "    actualmin,actualmax = find_min_max_with_python(X)\n",
    "    m,M = find_min_max(X)\n",
    "    if m!= actualmin or M != actualmax:\n",
    "        print(\"Bad soln!\")\n",
    "        return False\n",
    "    else:\n",
    "        print(\"Good soln, array has min value {} and max value {}\".format(m,M))\n",
    "    \n",
    "find_largest_and_smallest_number_in_unsorted_array()\n",
    "find_largest_and_smallest_number_in_unsorted_array([1,2,3,4,5,6,-10])"
   ]
  },
  {
   "cell_type": "code",
   "execution_count": 33,
   "metadata": {},
   "outputs": [
    {
     "name": "stdout",
     "output_type": "stream",
     "text": [
      "Results: [(-1, 6), (0, 5), (1, 4), (2, 3)] 4 10\n",
      "Results: [(-2, 5), (-1, 4), (0, 3), (1, 2)] 4 10\n",
      "Results: [(-2, 3), (-1, 2), (0, 1)] 3 8\n",
      "Results: [(-37, 47), (-35, 45), (-34, 44), (-31, 41), (-27, 37), (-22, 32), (-17, 27), (-16, 26), (-14, 24), (-12, 22), (-6, 16), (-5, 15), (-3, 13), (-2, 12), (-1, 11), (1, 9), (2, 8), (4, 6)] 18 36\n"
     ]
    }
   ],
   "source": [
    "def find_all_pairs_of_int_whose_sum_is_S(S = 10,X = None):\n",
    "    # generate test input\n",
    "    if not X:\n",
    "        X = []\n",
    "        n = 100\n",
    "        for i in range(n):\n",
    "            X.append(random.randint(-n//2,n//2))\n",
    "        X = list(set(X))\n",
    "            \n",
    "    def find_pairs_that_sum_to_S_with_set(S,X):\n",
    "        s = set(X)\n",
    "        pairs = []\n",
    "        for x in X:\n",
    "            if S-x != x:\n",
    "                if S-x in s:\n",
    "                    pairs.append((x,S-x))\n",
    "        return pairs\n",
    "    \n",
    "    def find_pairs_that_sum_to_S_with_hash_map(S,X):\n",
    "        hm = {}\n",
    "        pairs = []\n",
    "        for x in X:\n",
    "            hm[x] = 1\n",
    "            if S-x != x:\n",
    "                if S-x in hm.keys():\n",
    "                    pairs.append((x,S-x))\n",
    "        return pairs\n",
    "    \n",
    "    def find_pairs_that_sum_to_S_brute_force(S,X):\n",
    "        pairs = []\n",
    "        for i in range(len(X)):\n",
    "            for j in range(len(X)):\n",
    "                if i != j:\n",
    "                    if X[i] + X[j] == S:\n",
    "                        pairs.append((min(X[i],X[j]),max(X[i],X[j])))\n",
    "        return pairs, len(pairs)\n",
    "    \n",
    "    def sort_pairs(pairs):\n",
    "        X = []\n",
    "        for p in pairs:\n",
    "            if p[0] < p[1]:\n",
    "                X.append(p)\n",
    "            else:\n",
    "                X.append((p[1],p[0]))\n",
    "        return sorted(list(set(X)))\n",
    "        \n",
    "    pairs0 = find_pairs_that_sum_to_S_with_set(S,X)\n",
    "    pairs1 = find_pairs_that_sum_to_S_with_hash_map(S,X)\n",
    "    pairs,count = find_pairs_that_sum_to_S_brute_force(S,X)\n",
    "    pairs0 = sort_pairs(pairs0)\n",
    "    pairs1 = sort_pairs(pairs1)\n",
    "    pairs = sort_pairs(pairs)\n",
    "    if pairs0 == pairs1 and pairs1 == pairs:\n",
    "        print(\"Results:\",pairs,len(pairs),count)\n",
    "    else:\n",
    "        print(\"ERROR, solns do not agree\",len(pairs),len(pairs0),len(pairs1))\n",
    "        print(pairs)\n",
    "        print(pairs0)\n",
    "        \n",
    "find_all_pairs_of_int_whose_sum_is_S(5,[-1,2,4,1,5,3,0,2,6,-2])\n",
    "find_all_pairs_of_int_whose_sum_is_S(3,[-1,2,4,1,5,3,0,2,6,-2])\n",
    "find_all_pairs_of_int_whose_sum_is_S(1,[-1,2,4,1,5,3,0,2,6,-2])\n",
    "\n",
    "find_all_pairs_of_int_whose_sum_is_S(10)"
   ]
  },
  {
   "cell_type": "code",
   "execution_count": 45,
   "metadata": {},
   "outputs": [
    {
     "name": "stdout",
     "output_type": "stream",
     "text": [
      "Results of duplicate finding in array:\n",
      "   [0, 0, 1, 3, 3, 3, 4, 4, 5, 5, 5, 5, 6, 6, 6, 8, 8, 8, 9, 9, 10, 10, 10, 10, 12, 13, 13, 13, 14, 15]\n",
      "   [0, 0, 3, 3, 3, 4, 4, 5, 5, 5, 5, 6, 6, 6, 8, 8, 8, 9, 9, 10, 10, 10, 10, 13, 13, 13]\n",
      "Results of duplicate finding in array:\n",
      "   [-4, -1, 0, 0, 1, 1, 3, 3, 4, 5, 5, 7, 9, 11, 13]\n",
      "   [0, 0, 1, 1, 3, 3, 5, 5]\n",
      "Results of duplicate finding in array:\n",
      "   [1, 2, 3, 4]\n",
      "   []\n",
      "Results of duplicate finding in array:\n",
      "   [1, 1]\n",
      "   [1, 1]\n"
     ]
    }
   ],
   "source": [
    "def find_repeated_numbers_in_array_with_multiple_duplicates(X = None,n = 30):\n",
    "    if not X:\n",
    "        X = []\n",
    "        for i in range(n):\n",
    "            X.append(random.randint(0,n//2))\n",
    "\n",
    "    def find_repeats_with_python(X):\n",
    "        repeats = []\n",
    "        for x in X:\n",
    "            if X.count(x) > 1:\n",
    "                repeats.append(x)\n",
    "        return repeats\n",
    "            \n",
    "    def find_repeats_with_hash_map(X):\n",
    "        hm = {}\n",
    "        for x in X:\n",
    "            if x not in hm.keys():\n",
    "                hm[x] = 1\n",
    "            else:\n",
    "                hm[x] += 1\n",
    "        repeats = []\n",
    "        for k in hm.keys():\n",
    "            if hm[k] > 1:\n",
    "                repeats.append(k)\n",
    "        return repeats\n",
    "    \n",
    "    def find_repeats_with_hash_map2(X): # better!\n",
    "        hm = {}\n",
    "        repeats = []\n",
    "        for x in X:\n",
    "            if x not in hm.keys():\n",
    "                hm[x] = 1\n",
    "            else:\n",
    "                repeats.append(x)\n",
    "        return repeats\n",
    "    \n",
    "    repeats0 = find_repeats_with_python(X)\n",
    "    repeats1 = find_repeats_with_hash_map(X)\n",
    "    repeats2 = find_repeats_with_hash_map2(X)\n",
    "    X.sort()\n",
    "\n",
    "    print(\"Results of duplicate finding in array:\")\n",
    "    print(\"  \",X)\n",
    "    if repeats0.sort() == repeats1.sort() and repeats0.sort() == repeats2.sort():\n",
    "        print(\"  \",repeats0)\n",
    "    else:\n",
    "        print(\"   ERROR, solns do not agree\")\n",
    "\n",
    "find_repeated_numbers_in_array_with_multiple_duplicates()\n",
    "find_repeated_numbers_in_array_with_multiple_duplicates(X = [1,1,3,4,5,5,7,3,9,11,13,-1,-4,0,0])\n",
    "find_repeated_numbers_in_array_with_multiple_duplicates(X = [1,2,3,4])\n",
    "find_repeated_numbers_in_array_with_multiple_duplicates(X = [1,1])"
   ]
  },
  {
   "cell_type": "code",
   "execution_count": null,
   "metadata": {},
   "outputs": [],
   "source": []
  },
  {
   "cell_type": "code",
   "execution_count": null,
   "metadata": {},
   "outputs": [],
   "source": []
  }
 ],
 "metadata": {
  "kernelspec": {
   "display_name": "Python 3",
   "language": "python",
   "name": "python3"
  },
  "language_info": {
   "codemirror_mode": {
    "name": "ipython",
    "version": 3
   },
   "file_extension": ".py",
   "mimetype": "text/x-python",
   "name": "python",
   "nbconvert_exporter": "python",
   "pygments_lexer": "ipython3",
   "version": "3.7.3"
  }
 },
 "nbformat": 4,
 "nbformat_minor": 2
}
